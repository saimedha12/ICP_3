{
  "nbformat": 4,
  "nbformat_minor": 0,
  "metadata": {
    "colab": {
      "provenance": [],
      "authorship_tag": "ABX9TyPJ1T0Eg/wxoHGpVBsjPw2y",
      "include_colab_link": true
    },
    "kernelspec": {
      "name": "python3",
      "display_name": "Python 3"
    },
    "language_info": {
      "name": "python"
    }
  },
  "cells": [
    {
      "cell_type": "markdown",
      "metadata": {
        "id": "view-in-github",
        "colab_type": "text"
      },
      "source": [
        "<a href=\"https://colab.research.google.com/github/saimedha12/ICP_3/blob/main/ICP3.ipynb\" target=\"_parent\"><img src=\"https://colab.research.google.com/assets/colab-badge.svg\" alt=\"Open In Colab\"/></a>"
      ]
    },
    {
      "cell_type": "code",
      "execution_count": null,
      "metadata": {
        "colab": {
          "base_uri": "https://localhost:8080/"
        },
        "id": "4MObr_gQw88W",
        "outputId": "ac8d1af2-0a0d-4654-9051-3728bb05758a"
      },
      "outputs": [
        {
          "output_type": "stream",
          "name": "stdout",
          "text": [
            "   ID     Value Category\n",
            "0   1  0.366225        B\n",
            "1   2  0.111345        D\n",
            "2   3  0.576680        D\n",
            "3   4  0.372116        D\n",
            "4   5  0.142506        C\n"
          ]
        }
      ],
      "source": [
        "import pandas as pd\n",
        "import numpy as np\n",
        "\n",
        "# Create the dictionary with 1 million entries\n",
        "data = {\n",
        "    'ID': np.arange(1, 1000001),\n",
        "    'Value': np.random.rand(1000000),\n",
        "    'Category': np.random.choice(['A', 'B', 'C', 'D'], size=1000000)  # Randomly assign A, B, C, or D\n",
        "}\n",
        "\n",
        "# Create DataFrame from dictionary\n",
        "df = pd.DataFrame(data)\n",
        "\n",
        "# Display first few rows\n",
        "print(df.head())"
      ]
    },
    {
      "cell_type": "code",
      "source": [
        "import pandas as pd\n",
        "import numpy as np\n",
        "\n",
        "# Create the dataset\n",
        "data = {\n",
        "    'ID': np.arange(1, 1000001),\n",
        "    'Value': np.random.rand(1000000),\n",
        "    'Category': np.random.choice(['A', 'B', 'C', 'D'], size=1000000)\n",
        "}\n",
        "\n",
        "# Create DataFrame\n",
        "df = pd.DataFrame(data)\n",
        "\n",
        "# Output first 10 rows\n",
        "print(df.head(10))"
      ],
      "metadata": {
        "colab": {
          "base_uri": "https://localhost:8080/"
        },
        "id": "ryFZOxaIxoGR",
        "outputId": "ee9ce3c7-e85e-40e8-ad7e-a2dc042cc003"
      },
      "execution_count": null,
      "outputs": [
        {
          "output_type": "stream",
          "name": "stdout",
          "text": [
            "   ID     Value Category\n",
            "0   1  0.697767        B\n",
            "1   2  0.333616        A\n",
            "2   3  0.701660        D\n",
            "3   4  0.230437        C\n",
            "4   5  0.460116        C\n",
            "5   6  0.491286        A\n",
            "6   7  0.300645        D\n",
            "7   8  0.239798        B\n",
            "8   9  0.354273        A\n",
            "9  10  0.941578        C\n"
          ]
        }
      ]
    },
    {
      "cell_type": "code",
      "source": [
        "import pandas as pd\n",
        "import numpy as np\n",
        "\n",
        "# Step 1: Create the dataset\n",
        "data = {\n",
        "    'ID': np.arange(1, 1000001),  # IDs from 1 to 1,000,000\n",
        "    'Value': np.random.rand(1000000),  # Random float values between 0 and 1\n",
        "    'Category': np.random.choice(['A', 'B', 'C', 'D'], size=1000000)  # Random categories\n",
        "}\n",
        "\n",
        "# Step 2: Create DataFrame\n",
        "df = pd.DataFrame(data)\n",
        "\n",
        "\n",
        "value_column = df['Value']\n",
        "\n",
        "print(\"\\nFirst 5 values in the 'Value' column:\")\n",
        "print(value_column.head())"
      ],
      "metadata": {
        "colab": {
          "base_uri": "https://localhost:8080/"
        },
        "id": "GjMCyNZUyPlK",
        "outputId": "6a75e537-5bbc-4a93-c3ed-4f954f445c9e"
      },
      "execution_count": 13,
      "outputs": [
        {
          "output_type": "stream",
          "name": "stdout",
          "text": [
            "\n",
            "First 5 values in the 'Value' column:\n",
            "0    0.388211\n",
            "1    0.626119\n",
            "2    0.024622\n",
            "3    0.725631\n",
            "4    0.001723\n",
            "Name: Value, dtype: float64\n"
          ]
        }
      ]
    },
    {
      "cell_type": "code",
      "source": [
        "import pandas as pd\n",
        "import numpy as np\n",
        "\n",
        "# Create the dataset\n",
        "data = {\n",
        "    'ID': np.arange(1, 1000001),\n",
        "    'Value': np.random.rand(1000000),\n",
        "    'Category': np.random.choice(['A', 'B', 'C', 'D'], size=1000000)\n",
        "}\n",
        "\n",
        "# Create the DataFrame\n",
        "df = pd.DataFrame(data)\n",
        "\n",
        "# Rename the columns\n",
        "df.rename(columns={\n",
        "    'ID': 'ID number',\n",
        "    'Value': 'Random value',\n",
        "    'Category': 'Choice'\n",
        "}, inplace=True)\n",
        "\n",
        "# Display the first 5 rows\n",
        "print(\"First 5 rows after renaming columns:\")\n",
        "print(df.head())"
      ],
      "metadata": {
        "colab": {
          "base_uri": "https://localhost:8080/"
        },
        "id": "0qd-6rshyhS9",
        "outputId": "716506db-71fe-4b44-9bb8-b7d4d627f97c"
      },
      "execution_count": null,
      "outputs": [
        {
          "output_type": "stream",
          "name": "stdout",
          "text": [
            "First 5 rows after renaming columns:\n",
            "   ID number  Random value Choice\n",
            "0          1      0.304783      A\n",
            "1          2      0.241261      A\n",
            "2          3      0.761075      C\n",
            "3          4      0.915028      D\n",
            "4          5      0.063088      B\n"
          ]
        }
      ]
    },
    {
      "cell_type": "code",
      "source": [
        "import pandas as pd\n",
        "\n",
        "# Show all rows and columns\n",
        "pd.set_option('display.max_rows', None)\n",
        "pd.set_option('display.max_columns', None)\n",
        "\n",
        "# Create the DataFrame\n",
        "student_data = pd.DataFrame({\n",
        "    'school_code': ['s001', 's002', 's003', 's001', 's002', 's004'],\n",
        "    'class': ['V', 'V', 'VI', 'VI', 'V', 'VI'],\n",
        "    'name': ['Alberto Franco', 'Gino Mcneill', 'Ryan Parkes', 'Eesha Hinton', 'Gino Mcneill', 'David Parkes'],\n",
        "    'date_of_birth': ['15/05/2002', '17/05/2002', '16/02/1999', '25/09/1998', '11/05/2002', '15/09/1997'],\n",
        "    'age': [12, 12, 13, 13, 14, 12],\n",
        "    'height': [173, 192, 186, 167, 151, 159],\n",
        "    'address': ['street1', 'street2', 'street3', 'street4', 'street5', 'street6'],\n",
        "    'weight': [35, 32, 33, 30, 31, 32]\n",
        "}, index=['S1', 'S2', 'S3', 'S4', 'S5', 'S6'])\n",
        "\n",
        "# Output the DataFrame\n",
        "print(\"Original DataFrame:\")\n",
        "print(student_data)\n",
        "\n",
        "# Group by school_code and class\n",
        "print(\"\\nSplit the data school_code, class wise:\")\n",
        "result = student_data.groupby(['school_code', 'class'])\n",
        "\n",
        "# Display each group\n",
        "for name, group in result:\n",
        "    print(\"\\nGroup:\", name)\n",
        "    print(group)\n"
      ],
      "metadata": {
        "colab": {
          "base_uri": "https://localhost:8080/"
        },
        "id": "mCmxAC_pywpC",
        "outputId": "98134d71-a773-4603-d9b1-017206b2b2d3"
      },
      "execution_count": null,
      "outputs": [
        {
          "output_type": "stream",
          "name": "stdout",
          "text": [
            "Original DataFrame:\n",
            "   school_code class            name date_of_birth  age  height  address  \\\n",
            "S1        s001     V  Alberto Franco    15/05/2002   12     173  street1   \n",
            "S2        s002     V    Gino Mcneill    17/05/2002   12     192  street2   \n",
            "S3        s003    VI     Ryan Parkes    16/02/1999   13     186  street3   \n",
            "S4        s001    VI    Eesha Hinton    25/09/1998   13     167  street4   \n",
            "S5        s002     V    Gino Mcneill    11/05/2002   14     151  street5   \n",
            "S6        s004    VI    David Parkes    15/09/1997   12     159  street6   \n",
            "\n",
            "    weight  \n",
            "S1      35  \n",
            "S2      32  \n",
            "S3      33  \n",
            "S4      30  \n",
            "S5      31  \n",
            "S6      32  \n",
            "\n",
            "Split the data school_code, class wise:\n",
            "\n",
            "Group: ('s001', 'V')\n",
            "   school_code class            name date_of_birth  age  height  address  \\\n",
            "S1        s001     V  Alberto Franco    15/05/2002   12     173  street1   \n",
            "\n",
            "    weight  \n",
            "S1      35  \n",
            "\n",
            "Group: ('s001', 'VI')\n",
            "   school_code class          name date_of_birth  age  height  address  weight\n",
            "S4        s001    VI  Eesha Hinton    25/09/1998   13     167  street4      30\n",
            "\n",
            "Group: ('s002', 'V')\n",
            "   school_code class          name date_of_birth  age  height  address  weight\n",
            "S2        s002     V  Gino Mcneill    17/05/2002   12     192  street2      32\n",
            "S5        s002     V  Gino Mcneill    11/05/2002   14     151  street5      31\n",
            "\n",
            "Group: ('s003', 'VI')\n",
            "   school_code class         name date_of_birth  age  height  address  weight\n",
            "S3        s003    VI  Ryan Parkes    16/02/1999   13     186  street3      33\n",
            "\n",
            "Group: ('s004', 'VI')\n",
            "   school_code class          name date_of_birth  age  height  address  weight\n",
            "S6        s004    VI  David Parkes    15/09/1997   12     159  street6      32\n"
          ]
        }
      ]
    },
    {
      "cell_type": "code",
      "source": [
        "from google.colab import files\n",
        "import pandas as pd\n",
        "\n",
        "# Upload file\n",
        "uploaded = files.upload()\n",
        "\n",
        "# After upload, read the CSV\n",
        "df = pd.read_csv(next(iter(uploaded)))\n",
        "print(\"First 5 rows of the DataFrame:\")\n",
        "print(df.head())"
      ],
      "metadata": {
        "colab": {
          "base_uri": "https://localhost:8080/",
          "height": 194
        },
        "id": "B8X_S8nwzitM",
        "outputId": "922c5e62-1d96-4846-dc5b-d5e26c855d0f"
      },
      "execution_count": 3,
      "outputs": [
        {
          "output_type": "display_data",
          "data": {
            "text/plain": [
              "<IPython.core.display.HTML object>"
            ],
            "text/html": [
              "\n",
              "     <input type=\"file\" id=\"files-0fd16526-19e8-4765-a924-d10c93d09211\" name=\"files[]\" multiple disabled\n",
              "        style=\"border:none\" />\n",
              "     <output id=\"result-0fd16526-19e8-4765-a924-d10c93d09211\">\n",
              "      Upload widget is only available when the cell has been executed in the\n",
              "      current browser session. Please rerun this cell to enable.\n",
              "      </output>\n",
              "      <script>// Copyright 2017 Google LLC\n",
              "//\n",
              "// Licensed under the Apache License, Version 2.0 (the \"License\");\n",
              "// you may not use this file except in compliance with the License.\n",
              "// You may obtain a copy of the License at\n",
              "//\n",
              "//      http://www.apache.org/licenses/LICENSE-2.0\n",
              "//\n",
              "// Unless required by applicable law or agreed to in writing, software\n",
              "// distributed under the License is distributed on an \"AS IS\" BASIS,\n",
              "// WITHOUT WARRANTIES OR CONDITIONS OF ANY KIND, either express or implied.\n",
              "// See the License for the specific language governing permissions and\n",
              "// limitations under the License.\n",
              "\n",
              "/**\n",
              " * @fileoverview Helpers for google.colab Python module.\n",
              " */\n",
              "(function(scope) {\n",
              "function span(text, styleAttributes = {}) {\n",
              "  const element = document.createElement('span');\n",
              "  element.textContent = text;\n",
              "  for (const key of Object.keys(styleAttributes)) {\n",
              "    element.style[key] = styleAttributes[key];\n",
              "  }\n",
              "  return element;\n",
              "}\n",
              "\n",
              "// Max number of bytes which will be uploaded at a time.\n",
              "const MAX_PAYLOAD_SIZE = 100 * 1024;\n",
              "\n",
              "function _uploadFiles(inputId, outputId) {\n",
              "  const steps = uploadFilesStep(inputId, outputId);\n",
              "  const outputElement = document.getElementById(outputId);\n",
              "  // Cache steps on the outputElement to make it available for the next call\n",
              "  // to uploadFilesContinue from Python.\n",
              "  outputElement.steps = steps;\n",
              "\n",
              "  return _uploadFilesContinue(outputId);\n",
              "}\n",
              "\n",
              "// This is roughly an async generator (not supported in the browser yet),\n",
              "// where there are multiple asynchronous steps and the Python side is going\n",
              "// to poll for completion of each step.\n",
              "// This uses a Promise to block the python side on completion of each step,\n",
              "// then passes the result of the previous step as the input to the next step.\n",
              "function _uploadFilesContinue(outputId) {\n",
              "  const outputElement = document.getElementById(outputId);\n",
              "  const steps = outputElement.steps;\n",
              "\n",
              "  const next = steps.next(outputElement.lastPromiseValue);\n",
              "  return Promise.resolve(next.value.promise).then((value) => {\n",
              "    // Cache the last promise value to make it available to the next\n",
              "    // step of the generator.\n",
              "    outputElement.lastPromiseValue = value;\n",
              "    return next.value.response;\n",
              "  });\n",
              "}\n",
              "\n",
              "/**\n",
              " * Generator function which is called between each async step of the upload\n",
              " * process.\n",
              " * @param {string} inputId Element ID of the input file picker element.\n",
              " * @param {string} outputId Element ID of the output display.\n",
              " * @return {!Iterable<!Object>} Iterable of next steps.\n",
              " */\n",
              "function* uploadFilesStep(inputId, outputId) {\n",
              "  const inputElement = document.getElementById(inputId);\n",
              "  inputElement.disabled = false;\n",
              "\n",
              "  const outputElement = document.getElementById(outputId);\n",
              "  outputElement.innerHTML = '';\n",
              "\n",
              "  const pickedPromise = new Promise((resolve) => {\n",
              "    inputElement.addEventListener('change', (e) => {\n",
              "      resolve(e.target.files);\n",
              "    });\n",
              "  });\n",
              "\n",
              "  const cancel = document.createElement('button');\n",
              "  inputElement.parentElement.appendChild(cancel);\n",
              "  cancel.textContent = 'Cancel upload';\n",
              "  const cancelPromise = new Promise((resolve) => {\n",
              "    cancel.onclick = () => {\n",
              "      resolve(null);\n",
              "    };\n",
              "  });\n",
              "\n",
              "  // Wait for the user to pick the files.\n",
              "  const files = yield {\n",
              "    promise: Promise.race([pickedPromise, cancelPromise]),\n",
              "    response: {\n",
              "      action: 'starting',\n",
              "    }\n",
              "  };\n",
              "\n",
              "  cancel.remove();\n",
              "\n",
              "  // Disable the input element since further picks are not allowed.\n",
              "  inputElement.disabled = true;\n",
              "\n",
              "  if (!files) {\n",
              "    return {\n",
              "      response: {\n",
              "        action: 'complete',\n",
              "      }\n",
              "    };\n",
              "  }\n",
              "\n",
              "  for (const file of files) {\n",
              "    const li = document.createElement('li');\n",
              "    li.append(span(file.name, {fontWeight: 'bold'}));\n",
              "    li.append(span(\n",
              "        `(${file.type || 'n/a'}) - ${file.size} bytes, ` +\n",
              "        `last modified: ${\n",
              "            file.lastModifiedDate ? file.lastModifiedDate.toLocaleDateString() :\n",
              "                                    'n/a'} - `));\n",
              "    const percent = span('0% done');\n",
              "    li.appendChild(percent);\n",
              "\n",
              "    outputElement.appendChild(li);\n",
              "\n",
              "    const fileDataPromise = new Promise((resolve) => {\n",
              "      const reader = new FileReader();\n",
              "      reader.onload = (e) => {\n",
              "        resolve(e.target.result);\n",
              "      };\n",
              "      reader.readAsArrayBuffer(file);\n",
              "    });\n",
              "    // Wait for the data to be ready.\n",
              "    let fileData = yield {\n",
              "      promise: fileDataPromise,\n",
              "      response: {\n",
              "        action: 'continue',\n",
              "      }\n",
              "    };\n",
              "\n",
              "    // Use a chunked sending to avoid message size limits. See b/62115660.\n",
              "    let position = 0;\n",
              "    do {\n",
              "      const length = Math.min(fileData.byteLength - position, MAX_PAYLOAD_SIZE);\n",
              "      const chunk = new Uint8Array(fileData, position, length);\n",
              "      position += length;\n",
              "\n",
              "      const base64 = btoa(String.fromCharCode.apply(null, chunk));\n",
              "      yield {\n",
              "        response: {\n",
              "          action: 'append',\n",
              "          file: file.name,\n",
              "          data: base64,\n",
              "        },\n",
              "      };\n",
              "\n",
              "      let percentDone = fileData.byteLength === 0 ?\n",
              "          100 :\n",
              "          Math.round((position / fileData.byteLength) * 100);\n",
              "      percent.textContent = `${percentDone}% done`;\n",
              "\n",
              "    } while (position < fileData.byteLength);\n",
              "  }\n",
              "\n",
              "  // All done.\n",
              "  yield {\n",
              "    response: {\n",
              "      action: 'complete',\n",
              "    }\n",
              "  };\n",
              "}\n",
              "\n",
              "scope.google = scope.google || {};\n",
              "scope.google.colab = scope.google.colab || {};\n",
              "scope.google.colab._files = {\n",
              "  _uploadFiles,\n",
              "  _uploadFilesContinue,\n",
              "};\n",
              "})(self);\n",
              "</script> "
            ]
          },
          "metadata": {}
        },
        {
          "output_type": "stream",
          "name": "stdout",
          "text": [
            "Saving data.csv to data.csv\n",
            "First 5 rows of the DataFrame:\n",
            "   Duration  Pulse  Maxpulse  Calories\n",
            "0        60    110       130     409.1\n",
            "1        60    117       145     479.0\n",
            "2        60    103       135     340.0\n",
            "3        45    109       175     282.4\n",
            "4        45    117       148     406.0\n"
          ]
        }
      ]
    },
    {
      "cell_type": "code",
      "source": [
        "# Show basic statistical summary\n",
        "import pandas as pd\n",
        "\n",
        "# Load the dataset from CSV\n",
        "df = pd.read_csv(\"data.csv\")\n",
        "\n",
        "# Show the first 5 rows\n",
        "print(\"First 5 rows:\")\n",
        "print(df.head())\n",
        "\n",
        "# Show basic statistical description of all columns\n",
        "print(\"\\nBasic Statistical Description:\")\n",
        "print(df.describe(include='all'))\n",
        "\n"
      ],
      "metadata": {
        "colab": {
          "base_uri": "https://localhost:8080/"
        },
        "id": "M46iwG61zy2b",
        "outputId": "aa7971f4-30d1-4e4a-83eb-d3d5bb593ed2"
      },
      "execution_count": 4,
      "outputs": [
        {
          "output_type": "stream",
          "name": "stdout",
          "text": [
            "First 5 rows:\n",
            "   Duration  Pulse  Maxpulse  Calories\n",
            "0        60    110       130     409.1\n",
            "1        60    117       145     479.0\n",
            "2        60    103       135     340.0\n",
            "3        45    109       175     282.4\n",
            "4        45    117       148     406.0\n",
            "\n",
            "Basic Statistical Description:\n",
            "         Duration       Pulse    Maxpulse     Calories\n",
            "count  169.000000  169.000000  169.000000   164.000000\n",
            "mean    63.846154  107.461538  134.047337   375.790244\n",
            "std     42.299949   14.510259   16.450434   266.379919\n",
            "min     15.000000   80.000000  100.000000    50.300000\n",
            "25%     45.000000  100.000000  124.000000   250.925000\n",
            "50%     60.000000  105.000000  131.000000   318.600000\n",
            "75%     60.000000  111.000000  141.000000   387.600000\n",
            "max    300.000000  159.000000  184.000000  1860.400000\n"
          ]
        }
      ]
    },
    {
      "cell_type": "code",
      "source": [
        "import pandas as pd\n",
        "\n",
        "# Load the dataset\n",
        "df = pd.read_csv(\"data.csv\")\n",
        "\n",
        "# Check for null values\n",
        "print(\"Null values before replacement:\")\n",
        "print(df.isnull().sum())\n",
        "\n",
        "# Replace null values in numeric columns with the mean of the column\n",
        "df.fillna(df.mean(), inplace=True)\n",
        "\n",
        "print(\"\\nNull values after replacement:\")\n",
        "print(df.isnull().sum())\n",
        "\n",
        "\n"
      ],
      "metadata": {
        "colab": {
          "base_uri": "https://localhost:8080/"
        },
        "id": "n567sIri01x5",
        "outputId": "1c2e4b1b-b9b9-45ba-ac9c-851f66b46f0f"
      },
      "execution_count": 5,
      "outputs": [
        {
          "output_type": "stream",
          "name": "stdout",
          "text": [
            "Null values before replacement:\n",
            "Duration    0\n",
            "Pulse       0\n",
            "Maxpulse    0\n",
            "Calories    5\n",
            "dtype: int64\n",
            "\n",
            "Null values after replacement:\n",
            "Duration    0\n",
            "Pulse       0\n",
            "Maxpulse    0\n",
            "Calories    0\n",
            "dtype: int64\n"
          ]
        }
      ]
    },
    {
      "cell_type": "code",
      "source": [
        "import pandas as pd\n",
        "\n",
        "# Read CSV\n",
        "df = pd.read_csv(\"data.csv\")\n",
        "\n",
        "# Handle nulls (numeric: mean, categorical: mode)\n",
        "df.fillna(df.mean(numeric_only=True), inplace=True)\n",
        "for col in df.select_dtypes(include='object'):\n",
        "    df[col].fillna(df[col].mode()[0], inplace=True)\n",
        "\n",
        "# Automatically select at least two numeric columns\n",
        "numeric_cols = df.select_dtypes(include='number').columns\n",
        "columns_to_aggregate = numeric_cols[:2]  # first two numeric columns\n",
        "\n",
        "# Aggregate data\n",
        "agg_result = df[columns_to_aggregate].agg(['min', 'max', 'count', 'mean'])\n",
        "print(\"Aggregated data (min, max, count, mean) for selected columns:\")\n",
        "print(agg_result)"
      ],
      "metadata": {
        "id": "ymHL9uUF1ZOz",
        "outputId": "bce206a2-aa6c-4ba2-df45-06af277eeb99",
        "colab": {
          "base_uri": "https://localhost:8080/"
        }
      },
      "execution_count": null,
      "outputs": [
        {
          "output_type": "stream",
          "name": "stdout",
          "text": [
            "Aggregated data (min, max, count, mean) for selected columns:\n",
            "         Duration       Pulse\n",
            "min     15.000000   80.000000\n",
            "max    300.000000  159.000000\n",
            "count  169.000000  169.000000\n",
            "mean    63.846154  107.461538\n"
          ]
        }
      ]
    },
    {
      "cell_type": "code",
      "source": [
        "import pandas as pd\n",
        "\n",
        "# Read CSV\n",
        "df = pd.read_csv(\"data.csv\")\n",
        "\n",
        "# Check the column names to see the exact name\n",
        "print(\"Columns in the DataFrame:\")\n",
        "print(df.columns)\n",
        "\n",
        "# Once you see the correct column name, replace 'Calories' below if needed\n",
        "filtered_df = df[(df['Calories'] >= 500) & (df['Calories'] <= 1000)]\n",
        "\n",
        "print(\"\\nRows with calories between 500 and 1000:\")\n",
        "print(filtered_df)\n"
      ],
      "metadata": {
        "colab": {
          "base_uri": "https://localhost:8080/"
        },
        "id": "xoKm6IMHzTcE",
        "outputId": "9e81e44c-a4d2-4947-91f8-720ebd385548"
      },
      "execution_count": 6,
      "outputs": [
        {
          "output_type": "stream",
          "name": "stdout",
          "text": [
            "Columns in the DataFrame:\n",
            "Index(['Duration', 'Pulse', 'Maxpulse', 'Calories'], dtype='object')\n",
            "\n",
            "Rows with calories between 500 and 1000:\n",
            "     Duration  Pulse  Maxpulse  Calories\n",
            "51         80    123       146     643.1\n",
            "62        160    109       135     853.0\n",
            "65        180     90       130     800.4\n",
            "66        150    105       135     873.4\n",
            "67        150    107       130     816.0\n",
            "72         90    100       127     700.0\n",
            "73        150     97       127     953.2\n",
            "75         90     98       125     563.2\n",
            "78        120    100       130     500.4\n",
            "83        120    100       130     500.0\n",
            "90        180    101       127     600.1\n",
            "99         90     93       124     604.1\n",
            "101        90     90       110     500.0\n",
            "102        90     90       100     500.0\n",
            "103        90     90       100     500.4\n",
            "106       180     90       120     800.3\n",
            "108        90     90       120     500.3\n"
          ]
        }
      ]
    },
    {
      "cell_type": "code",
      "source": [
        "import pandas as pd\n",
        "\n",
        "# Read CSV\n",
        "df = pd.read_csv(\"data.csv\")\n",
        "\n",
        "# Check column names (optional)\n",
        "print(\"Columns in the DataFrame:\")\n",
        "print(df.columns)\n",
        "\n",
        "# Filter rows with calories > 500 and pulse < 100\n",
        "filtered_df = df[(df['Calories'] > 500) & (df['Pulse'] < 100)]\n",
        "\n",
        "print(\"\\nRows with Calories > 500 and Pulse < 100:\")\n",
        "print(filtered_df)\n"
      ],
      "metadata": {
        "colab": {
          "base_uri": "https://localhost:8080/"
        },
        "id": "GTL6zouPzmgK",
        "outputId": "52091c32-d579-4297-f99b-f6885ddc733e"
      },
      "execution_count": 7,
      "outputs": [
        {
          "output_type": "stream",
          "name": "stdout",
          "text": [
            "Columns in the DataFrame:\n",
            "Index(['Duration', 'Pulse', 'Maxpulse', 'Calories'], dtype='object')\n",
            "\n",
            "Rows with Calories > 500 and Pulse < 100:\n",
            "     Duration  Pulse  Maxpulse  Calories\n",
            "65        180     90       130     800.4\n",
            "70        150     97       129    1115.0\n",
            "73        150     97       127     953.2\n",
            "75         90     98       125     563.2\n",
            "99         90     93       124     604.1\n",
            "103        90     90       100     500.4\n",
            "106       180     90       120     800.3\n",
            "108        90     90       120     500.3\n"
          ]
        }
      ]
    },
    {
      "cell_type": "code",
      "source": [
        "import pandas as pd\n",
        "\n",
        "# Read CSV\n",
        "df = pd.read_csv(\"data.csv\")\n",
        "\n",
        "# Create df_modified by dropping the 'Maxpulse' column\n",
        "df_modified = df.drop(columns=['Maxpulse'])\n",
        "\n",
        "print(\"DataFrame after dropping 'Maxpulse' column:\")\n",
        "print(df_modified.head())\n"
      ],
      "metadata": {
        "colab": {
          "base_uri": "https://localhost:8080/"
        },
        "id": "mf7aUNdaz58H",
        "outputId": "fc5971e8-3ae3-4292-c366-e10fa2148a83"
      },
      "execution_count": 8,
      "outputs": [
        {
          "output_type": "stream",
          "name": "stdout",
          "text": [
            "DataFrame after dropping 'Maxpulse' column:\n",
            "   Duration  Pulse  Calories\n",
            "0        60    110     409.1\n",
            "1        60    117     479.0\n",
            "2        60    103     340.0\n",
            "3        45    109     282.4\n",
            "4        45    117     406.0\n"
          ]
        }
      ]
    },
    {
      "cell_type": "code",
      "source": [
        "import pandas as pd\n",
        "\n",
        "# Read CSV\n",
        "df = pd.read_csv(\"data.csv\")\n",
        "\n",
        "# Delete 'Maxpulse' column from the original DataFrame\n",
        "df.drop(columns=['Maxpulse'], inplace=True)\n",
        "\n",
        "print(\"DataFrame after deleting 'Maxpulse' column:\")\n",
        "print(df.head())\n"
      ],
      "metadata": {
        "colab": {
          "base_uri": "https://localhost:8080/"
        },
        "id": "H3tLA7WX0JnH",
        "outputId": "181440d8-0497-4066-ae77-d0afa307b220"
      },
      "execution_count": 9,
      "outputs": [
        {
          "output_type": "stream",
          "name": "stdout",
          "text": [
            "DataFrame after deleting 'Maxpulse' column:\n",
            "   Duration  Pulse  Calories\n",
            "0        60    110     409.1\n",
            "1        60    117     479.0\n",
            "2        60    103     340.0\n",
            "3        45    109     282.4\n",
            "4        45    117     406.0\n"
          ]
        }
      ]
    },
    {
      "cell_type": "code",
      "source": [
        "import pandas as pd\n",
        "\n",
        "# Read CSV\n",
        "df = pd.read_csv(\"data.csv\")\n",
        "\n",
        "# Convert 'Calories' column to numeric (coerce errors to NaN), fill NaNs with 0, then convert to int\n",
        "df['Calories'] = pd.to_numeric(df['Calories'], errors='coerce').fillna(0).astype(int)\n",
        "\n",
        "print(\"Data types after conversion:\")\n",
        "print(df.dtypes)\n",
        "\n",
        "print(\"\\nFirst 5 values in 'Calories' column:\")\n",
        "print(df['Calories'].head())\n"
      ],
      "metadata": {
        "colab": {
          "base_uri": "https://localhost:8080/"
        },
        "id": "ozD57ung0Xc-",
        "outputId": "8099804b-757f-4046-ba7e-a577330de97d"
      },
      "execution_count": 11,
      "outputs": [
        {
          "output_type": "stream",
          "name": "stdout",
          "text": [
            "Data types after conversion:\n",
            "Duration    int64\n",
            "Pulse       int64\n",
            "Maxpulse    int64\n",
            "Calories    int64\n",
            "dtype: object\n",
            "\n",
            "First 5 values in 'Calories' column:\n",
            "0    409\n",
            "1    479\n",
            "2    340\n",
            "3    282\n",
            "4    406\n",
            "Name: Calories, dtype: int64\n"
          ]
        }
      ]
    },
    {
      "cell_type": "code",
      "source": [
        "import pandas as pd\n",
        "import matplotlib.pyplot as plt\n",
        "\n",
        "# Read CSV\n",
        "df = pd.read_csv(\"data.csv\")\n",
        "\n",
        "# Create scatter plot of Duration vs Calories\n",
        "df.plot.scatter(x='Duration', y='Calories', color='blue', title='Duration vs Calories')\n",
        "\n",
        "# Show the plot\n",
        "plt.show()\n"
      ],
      "metadata": {
        "colab": {
          "base_uri": "https://localhost:8080/",
          "height": 472
        },
        "id": "ZQN72bL-09ui",
        "outputId": "d37a8119-2bb5-4f54-fc49-979b669a312a"
      },
      "execution_count": 12,
      "outputs": [
        {
          "output_type": "display_data",
          "data": {
            "text/plain": [
              "<Figure size 640x480 with 1 Axes>"
            ],
            "image/png": "[encoded data removed]"
          },
          "metadata": {}
        }
      ]
    }
  ]
}